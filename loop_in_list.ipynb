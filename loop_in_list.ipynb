{
  "cells": [
    {
      "cell_type": "markdown",
      "metadata": {
        "id": "view-in-github",
        "colab_type": "text"
      },
      "source": [
        "<a href=\"https://colab.research.google.com/github/AbdullahMalik17/Learning-TypeScript/blob/main/loop_in_list.ipynb\" target=\"_parent\"><img src=\"https://colab.research.google.com/assets/colab-badge.svg\" alt=\"Open In Colab\"/></a>"
      ]
    },
    {
      "cell_type": "markdown",
      "metadata": {
        "id": "3ZU61qLxHuyH"
      },
      "source": [
        "# You can use for loop in list .\n",
        "For example , if you want to print the entires of list in line by line . Then you use This type of coding ."
      ]
    },
    {
      "cell_type": "code",
      "execution_count": 4,
      "metadata": {
        "vscode": {
          "languageId": "plaintext"
        },
        "colab": {
          "base_uri": "https://localhost:8080/"
        },
        "id": "LqT3yuMeHuyL",
        "outputId": "1a274ebb-5dcd-445f-9098-607a99c77873"
      },
      "outputs": [
        {
          "output_type": "stream",
          "name": "stdout",
          "text": [
            "alice, It's a great technique .\n",
            "judii, It's a great technique .\n",
            "Lice, It's a great technique .\n"
          ]
        }
      ],
      "source": [
        "magicians = [\"alice\",\"judii\",\"Lice\"]\n",
        "for magician in magicians :\n",
        "    print(f\"{magician}, It's a great technique .\")"
      ]
    }
  ],
  "metadata": {
    "language_info": {
      "name": "python"
    },
    "colab": {
      "provenance": [],
      "include_colab_link": true
    },
    "kernelspec": {
      "name": "python3",
      "display_name": "Python 3"
    }
  },
  "nbformat": 4,
  "nbformat_minor": 0
}