{
  "cells": [
    {
      "cell_type": "markdown",
      "metadata": {
        "id": "view-in-github",
        "colab_type": "text"
      },
      "source": [
        "<a href=\"https://colab.research.google.com/github/AbdullahMalik17/Learning-TypeScript/blob/main/loop_in_list.ipynb\" target=\"_parent\"><img src=\"https://colab.research.google.com/assets/colab-badge.svg\" alt=\"Open In Colab\"/></a>"
      ]
    },
    {
      "cell_type": "markdown",
      "metadata": {
        "id": "3ZU61qLxHuyH"
      },
      "source": [
        "# You can use for loop in list .\n",
        "For example , if you want to print the entires of list in line by line . Then you use This type of coding ."
      ]
    },
    {
      "cell_type": "code",
      "execution_count": 1,
      "metadata": {
        "vscode": {
          "languageId": "plaintext"
        },
        "colab": {
          "base_uri": "https://localhost:8080/"
        },
        "id": "LqT3yuMeHuyL",
        "outputId": "93a57162-3b16-48dd-f2c2-bee965c15164"
      },
      "outputs": [
        {
          "output_type": "stream",
          "name": "stdout",
          "text": [
            "alice, It's a great technique .\n",
            "judii, It's a great technique .\n",
            "Lice, It's a great technique .\n"
          ]
        }
      ],
      "source": [
        "magicians = [\"alice\",\"judii\",\"Lice\"]\n",
        "for magician in magicians :\n",
        "    print(f\"{magician}, It's a great technique .\")"
      ]
    },
    {
      "cell_type": "code",
      "source": [
        "# We also use string method in each entires of it .\n",
        "scientist_of_muslims = [\"Abu Qasim Zahrawi\",\"Bu Ali sena\",\"Dr. Qadir khan\"]\n",
        "for scientist in scientist_of_muslims :\n",
        "  print(f\"{scientist.upper()}! are the great Muslim scintist .\")"
      ],
      "metadata": {
        "colab": {
          "base_uri": "https://localhost:8080/"
        },
        "id": "ztm7lphBOMZL",
        "outputId": "1436880f-09a4-42a6-dd43-5497255a123f"
      },
      "execution_count": 2,
      "outputs": [
        {
          "output_type": "stream",
          "name": "stdout",
          "text": [
            "ABU QASIM ZAHRAWI! are the great muslim scintist .\n",
            "BU ALI SENA! are the great muslim scintist .\n",
            "DR. QADIR KHAN! are the great muslim scintist .\n"
          ]
        }
      ]
    }
  ],
  "metadata": {
    "language_info": {
      "name": "python"
    },
    "colab": {
      "provenance": [],
      "include_colab_link": true
    },
    "kernelspec": {
      "name": "python3",
      "display_name": "Python 3"
    }
  },
  "nbformat": 4,
  "nbformat_minor": 0
}